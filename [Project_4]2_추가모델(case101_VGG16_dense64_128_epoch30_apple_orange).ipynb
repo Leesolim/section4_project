{
  "cells": [
    {
      "cell_type": "code",
      "execution_count": 1,
      "metadata": {
        "id": "1Ob_AlDhHAD8",
        "colab": {
          "base_uri": "https://localhost:8080/"
        },
        "outputId": "b038a1f1-fef2-44c9-92e1-7f67403ebcc3"
      },
      "outputs": [
        {
          "output_type": "stream",
          "name": "stdout",
          "text": [
            "Downloading data from https://storage.googleapis.com/tensorflow/keras-applications/vgg16/vgg16_weights_tf_dim_ordering_tf_kernels_notop.h5\n",
            "58889256/58889256 [==============================] - 0s 0us/step\n"
          ]
        }
      ],
      "source": [
        "import numpy as np\n",
        " \n",
        "from tensorflow.keras.applications.vgg16 import VGG16\n",
        "from tensorflow.keras.preprocessing import image\n",
        "from tensorflow.keras.applications.vgg16 import preprocess_input, decode_predictions\n",
        " \n",
        "from tensorflow.keras.layers import Dense, GlobalAveragePooling2D, Dropout\n",
        "from tensorflow.keras.models import Model # This is the functional API\n",
        " \n",
        "vgg = VGG16(weights='imagenet', include_top=False) # 모델에서 Fully Connected layer 부분을 제거해주는 역할"
      ]
    },
    {
      "cell_type": "code",
      "execution_count": 2,
      "metadata": {
        "colab": {
          "base_uri": "https://localhost:8080/"
        },
        "id": "LIJBx567HhxD",
        "outputId": "d3396073-a2e1-419e-bdbc-40eaa5cb1792"
      },
      "outputs": [
        {
          "output_type": "stream",
          "name": "stdout",
          "text": [
            "Drive already mounted at /content/drive; to attempt to forcibly remount, call drive.mount(\"/content/drive\", force_remount=True).\n"
          ]
        }
      ],
      "source": [
        "from google.colab import drive\n",
        "\n",
        "drive.mount('/content/drive')"
      ]
    },
    {
      "cell_type": "code",
      "execution_count": 3,
      "metadata": {
        "id": "2HPwx8O9Hhz1"
      },
      "outputs": [],
      "source": [
        "import os\n",
        "\n",
        "base_apple_dir = '/content/drive/MyDrive/apple'\n",
        "base_apple_orange_dir = '/content/drive/MyDrive/apple_orange'\n",
        "\n",
        "train_dir = os.path.join(base_apple_orange_dir, 'train')\n",
        "train_fresh_dir = os.path.join(train_dir, 'fresh')\n",
        "train_rotten_dir = os.path.join(train_dir, 'rotten')\n",
        "\n",
        "test_apple_dir = os.path.join(base_apple_dir, 'test_apple')\n",
        "test_apple_fresh_dir = os.path.join(test_apple_dir, 'fresh')\n",
        "test_apple_rotten_dir = os.path.join(test_apple_dir, 'rotten')\n",
        "\n",
        "test_banana_dir = os.path.join(base_apple_dir, 'test_banana')\n",
        "test_banana_fresh_dir = os.path.join(test_banana_dir, 'fresh')\n",
        "test_banana_rotten_dir = os.path.join(test_banana_dir, 'rotten')\n",
        "\n",
        "test_orange_dir = os.path.join(base_apple_dir, 'test_orange')\n",
        "test_orange_fresh_dir = os.path.join(test_orange_dir, 'fresh')\n",
        "test_orange_rotten_dir = os.path.join(test_orange_dir, 'rotten')"
      ]
    },
    {
      "cell_type": "code",
      "execution_count": 4,
      "metadata": {
        "colab": {
          "base_uri": "https://localhost:8080/"
        },
        "id": "Tn44knjAHh2z",
        "outputId": "9365064f-f897-486b-f68e-8b2742b1cae9"
      },
      "outputs": [
        {
          "output_type": "stream",
          "name": "stdout",
          "text": [
            "['Screen Shot 2018-06-08 at 4.59.36 PM.png', 'Screen Shot 2018-06-08 at 4.59.49 PM.png', 'Screen Shot 2018-06-08 at 4.59.57 PM.png', 'Screen Shot 2018-06-08 at 5.00.03 PM.png', 'Screen Shot 2018-06-08 at 5.00.12 PM.png', 'Screen Shot 2018-06-08 at 5.00.18 PM.png', 'Screen Shot 2018-06-08 at 5.00.26 PM.png', 'Screen Shot 2018-06-08 at 5.00.35 PM.png', 'Screen Shot 2018-06-08 at 5.00.43 PM.png', 'Screen Shot 2018-06-08 at 5.00.50 PM.png']\n",
            "['Screen Shot 2018-06-07 at 2.15.20 PM.png', 'Screen Shot 2018-06-07 at 2.15.50 PM.png', 'Screen Shot 2018-06-07 at 2.16.18 PM.png', 'Screen Shot 2018-06-07 at 2.16.41 PM.png', 'Screen Shot 2018-06-07 at 2.17.15 PM.png', 'Screen Shot 2018-06-07 at 2.17.25 PM.png', 'Screen Shot 2018-06-07 at 2.18.13 PM.png', 'Screen Shot 2018-06-07 at 2.18.57 PM.png', 'Screen Shot 2018-06-07 at 2.19.15 PM.png', 'Screen Shot 2018-06-07 at 2.19.37 PM.png']\n"
          ]
        }
      ],
      "source": [
        "train_fresh_fnames = os.listdir(train_fresh_dir)\n",
        "train_fresh_fnames.sort()\n",
        "print(train_fresh_fnames[:10])\n",
        "\n",
        "train_rotten_fnames = os.listdir(train_rotten_dir)\n",
        "train_rotten_fnames.sort()\n",
        "print(train_rotten_fnames[:10])"
      ]
    },
    {
      "cell_type": "code",
      "execution_count": 5,
      "metadata": {
        "colab": {
          "base_uri": "https://localhost:8080/"
        },
        "id": "c9NtvDJXHh5I",
        "outputId": "d6c25697-472c-4ced-ac44-f2c9af6b8805"
      },
      "outputs": [
        {
          "output_type": "stream",
          "name": "stdout",
          "text": [
            "total training fresh images: 3159\n",
            "total training rotten images: 3937\n",
            "total test_apple fresh images: 395\n",
            "total test_apple rotten images: 601\n",
            "total test_banana fresh images: 381\n",
            "total test_banana rotten images: 530\n",
            "total test_orange fresh images: 388\n",
            "total test_orange rotten images: 403\n"
          ]
        }
      ],
      "source": [
        "print('total training fresh images:', len(os.listdir(train_fresh_dir)))\n",
        "print('total training rotten images:', len(os.listdir(train_rotten_dir)))\n",
        "print('total test_apple fresh images:', len(os.listdir(test_apple_fresh_dir)))\n",
        "print('total test_apple rotten images:', len(os.listdir(test_apple_rotten_dir)))\n",
        "print('total test_banana fresh images:', len(os.listdir(test_banana_fresh_dir)))\n",
        "print('total test_banana rotten images:', len(os.listdir(test_banana_rotten_dir)))\n",
        "print('total test_orange fresh images:', len(os.listdir(test_orange_fresh_dir)))\n",
        "print('total test_orange rotten images:', len(os.listdir(test_orange_rotten_dir)))"
      ]
    },
    {
      "cell_type": "code",
      "execution_count": 6,
      "metadata": {
        "id": "f8UBaGyOHh7f"
      },
      "outputs": [],
      "source": [
        "from tensorflow.keras import layers\n",
        "img_input = layers.Input(shape=(224*224*3))"
      ]
    },
    {
      "cell_type": "code",
      "execution_count": 7,
      "metadata": {
        "colab": {
          "base_uri": "https://localhost:8080/"
        },
        "id": "juIvknTnHh-G",
        "outputId": "9b638ee8-661a-406f-9ae5-8edfcaa301fb"
      },
      "outputs": [
        {
          "output_type": "stream",
          "name": "stdout",
          "text": [
            "Found 7096 images belonging to 2 classes.\n",
            "Found 996 images belonging to 2 classes.\n",
            "Found 911 images belonging to 2 classes.\n",
            "Found 791 images belonging to 2 classes.\n"
          ]
        }
      ],
      "source": [
        "from keras.preprocessing.image import ImageDataGenerator\n",
        "\n",
        "train_datagen = ImageDataGenerator(rescale=1./255)\n",
        "test_apple_datagen = ImageDataGenerator(rescale=1./255)\n",
        "test_banana_datagen = ImageDataGenerator(rescale=1./255)\n",
        "test_orange_datagen = ImageDataGenerator(rescale=1./255)\n",
        "\n",
        "train_generator = train_datagen.flow_from_directory(\n",
        "        train_dir,  \n",
        "        target_size=(224, 224),\n",
        "        batch_size=256,\n",
        "        classes = ['fresh','rotten'],\n",
        "        class_mode=\"binary\")\n",
        "\n",
        "test_apple_generator = test_apple_datagen.flow_from_directory(\n",
        "        test_apple_dir,\n",
        "        target_size=(224, 224),\n",
        "        batch_size=256,\n",
        "        classes = ['fresh', 'rotten'],\n",
        "        class_mode=\"binary\")\n",
        "\n",
        "\n",
        "test_banana_generator = test_banana_datagen.flow_from_directory(\n",
        "        test_banana_dir,\n",
        "        target_size=(224, 224),\n",
        "        batch_size=256,\n",
        "        classes = ['fresh', 'rotten'],\n",
        "        class_mode=\"binary\")\n",
        "\n",
        "test_orange_generator = test_orange_datagen.flow_from_directory(\n",
        "        test_orange_dir,\n",
        "        target_size=(224, 224),\n",
        "        batch_size=256,\n",
        "        classes = ['fresh', 'rotten'],\n",
        "        class_mode=\"binary\")\n",
        "\n",
        "\n",
        "# 전체데이터 : 배치사이즈 수정 필요\n",
        "# resnet50 input image size ; 224 x 224 x 3"
      ]
    },
    {
      "cell_type": "code",
      "execution_count": 8,
      "metadata": {
        "id": "0lTGOc4oMWEP"
      },
      "outputs": [],
      "source": [
        "for layer in vgg.layers:\n",
        "    layer.trainable = False\n",
        "# ResNet50 레이어들의 파라미터를 학습하지 않도록 설정합니다.\n",
        "# 이렇게 설정된 매개 변수는 역전파를 통해 오차 정보가 전파 되더라도 파라미터가 업데이트 되지 않습니다."
      ]
    },
    {
      "cell_type": "code",
      "execution_count": 9,
      "metadata": {
        "id": "Waj9pK2gMWG6"
      },
      "outputs": [],
      "source": [
        "x = vgg.output\n",
        "x = GlobalAveragePooling2D()(x)\n",
        "x = Dense(64, activation='relu')(x)\n",
        "x = Dense(128, activation='relu')(x)\n",
        "x = Dropout(0.2)(x)\n",
        "predictions = Dense(1, activation='sigmoid')(x)\n",
        "model = Model(vgg.input, predictions)"
      ]
    },
    {
      "cell_type": "code",
      "execution_count": 10,
      "metadata": {
        "id": "uXZKp7vqMWJ1"
      },
      "outputs": [],
      "source": [
        "model.compile(optimizer=\"adam\", loss=\"binary_crossentropy\", metrics=[\"accuracy\"])"
      ]
    },
    {
      "cell_type": "code",
      "execution_count": 11,
      "metadata": {
        "colab": {
          "base_uri": "https://localhost:8080/"
        },
        "id": "YsUeeURnQ1pP",
        "outputId": "0432537c-605d-4765-a8b7-c96ab3e3b22a"
      },
      "outputs": [
        {
          "output_type": "stream",
          "name": "stdout",
          "text": [
            "Epoch 1/30\n",
            "28/28 [==============================] - 1008s 36s/step - loss: 0.6177 - accuracy: 0.6756\n",
            "Epoch 2/30\n",
            "28/28 [==============================] - 34s 1s/step - loss: 0.3670 - accuracy: 0.8622\n",
            "Epoch 3/30\n",
            "28/28 [==============================] - 34s 1s/step - loss: 0.2398 - accuracy: 0.9011\n",
            "Epoch 4/30\n",
            "28/28 [==============================] - 34s 1s/step - loss: 0.1882 - accuracy: 0.9269\n",
            "Epoch 5/30\n",
            "28/28 [==============================] - 34s 1s/step - loss: 0.1572 - accuracy: 0.9426\n",
            "Epoch 6/30\n",
            "28/28 [==============================] - 34s 1s/step - loss: 0.1436 - accuracy: 0.9462\n",
            "Epoch 7/30\n",
            "28/28 [==============================] - 34s 1s/step - loss: 0.1307 - accuracy: 0.9518\n",
            "Epoch 8/30\n",
            "28/28 [==============================] - 34s 1s/step - loss: 0.1185 - accuracy: 0.9577\n",
            "Epoch 9/30\n",
            "28/28 [==============================] - 34s 1s/step - loss: 0.1082 - accuracy: 0.9612\n",
            "Epoch 10/30\n",
            "28/28 [==============================] - 34s 1s/step - loss: 0.1008 - accuracy: 0.9627\n",
            "Epoch 11/30\n",
            "28/28 [==============================] - 34s 1s/step - loss: 0.0913 - accuracy: 0.9683\n",
            "Epoch 12/30\n",
            "28/28 [==============================] - 34s 1s/step - loss: 0.0867 - accuracy: 0.9687\n",
            "Epoch 13/30\n",
            "28/28 [==============================] - 34s 1s/step - loss: 0.0815 - accuracy: 0.9705\n",
            "Epoch 14/30\n",
            "28/28 [==============================] - 34s 1s/step - loss: 0.0792 - accuracy: 0.9694\n",
            "Epoch 15/30\n",
            "28/28 [==============================] - 34s 1s/step - loss: 0.0757 - accuracy: 0.9736\n",
            "Epoch 16/30\n",
            "28/28 [==============================] - 34s 1s/step - loss: 0.0751 - accuracy: 0.9696\n",
            "Epoch 17/30\n",
            "28/28 [==============================] - 34s 1s/step - loss: 0.0682 - accuracy: 0.9744\n",
            "Epoch 18/30\n",
            "28/28 [==============================] - 34s 1s/step - loss: 0.0620 - accuracy: 0.9770\n",
            "Epoch 19/30\n",
            "28/28 [==============================] - 34s 1s/step - loss: 0.0582 - accuracy: 0.9796\n",
            "Epoch 20/30\n",
            "28/28 [==============================] - 34s 1s/step - loss: 0.0543 - accuracy: 0.9798\n",
            "Epoch 21/30\n",
            "28/28 [==============================] - 34s 1s/step - loss: 0.0519 - accuracy: 0.9829\n",
            "Epoch 22/30\n",
            "28/28 [==============================] - 34s 1s/step - loss: 0.0544 - accuracy: 0.9807\n",
            "Epoch 23/30\n",
            "28/28 [==============================] - 34s 1s/step - loss: 0.0496 - accuracy: 0.9817\n",
            "Epoch 24/30\n",
            "28/28 [==============================] - 34s 1s/step - loss: 0.0453 - accuracy: 0.9839\n",
            "Epoch 25/30\n",
            "28/28 [==============================] - 34s 1s/step - loss: 0.0463 - accuracy: 0.9821\n",
            "Epoch 26/30\n",
            "28/28 [==============================] - 34s 1s/step - loss: 0.0433 - accuracy: 0.9846\n",
            "Epoch 27/30\n",
            "28/28 [==============================] - 33s 1s/step - loss: 0.0392 - accuracy: 0.9853\n",
            "Epoch 28/30\n",
            "28/28 [==============================] - 34s 1s/step - loss: 0.0417 - accuracy: 0.9844\n",
            "Epoch 29/30\n",
            "28/28 [==============================] - 34s 1s/step - loss: 0.0346 - accuracy: 0.9886\n",
            "Epoch 30/30\n",
            "28/28 [==============================] - 34s 1s/step - loss: 0.0351 - accuracy: 0.9869\n"
          ]
        }
      ],
      "source": [
        "history = model.fit(\n",
        "      train_generator, \n",
        "      epochs=30,\n",
        "      verbose=1)"
      ]
    },
    {
      "cell_type": "code",
      "execution_count": 12,
      "metadata": {
        "id": "itbPnkQDQ1xP",
        "colab": {
          "base_uri": "https://localhost:8080/"
        },
        "outputId": "0cdfad41-9694-4811-c469-2cf0d0ae30cf"
      },
      "outputs": [
        {
          "output_type": "stream",
          "name": "stdout",
          "text": [
            "4/4 [==============================] - 208s 69s/step - loss: 0.0589 - accuracy: 0.9779\n",
            "loss_and_metrics_apple : [0.05893241986632347, 0.977911651134491]\n"
          ]
        }
      ],
      "source": [
        "loss_and_metrics_apple = model.evaluate(test_apple_generator)\n",
        "print('loss_and_metrics_apple : ' + str(loss_and_metrics_apple))"
      ]
    },
    {
      "cell_type": "code",
      "execution_count": 13,
      "metadata": {
        "id": "2Ka0QNBOQ10Q",
        "colab": {
          "base_uri": "https://localhost:8080/"
        },
        "outputId": "8ca7a0cf-a010-4389-c3bf-6d693d7ea38a"
      },
      "outputs": [
        {
          "output_type": "stream",
          "name": "stdout",
          "text": [
            "4/4 [==============================] - 177s 58s/step - loss: 0.7519 - accuracy: 0.8441\n",
            "loss_and_metrics_banana : [0.751906156539917, 0.844127357006073]\n"
          ]
        }
      ],
      "source": [
        "loss_and_metrics_banana = model.evaluate(test_banana_generator)\n",
        "print('loss_and_metrics_banana : ' + str(loss_and_metrics_banana))"
      ]
    },
    {
      "cell_type": "code",
      "source": [
        "loss_and_metrics_orange = model.evaluate(test_orange_generator)\n",
        "print('loss_and_metrics_orange : ' + str(loss_and_metrics_orange))"
      ],
      "metadata": {
        "id": "ltlergFu_zp8",
        "colab": {
          "base_uri": "https://localhost:8080/"
        },
        "outputId": "594038c7-54ce-4729-d4ff-41dcaf760325"
      },
      "execution_count": 14,
      "outputs": [
        {
          "output_type": "stream",
          "name": "stdout",
          "text": [
            "4/4 [==============================] - 138s 45s/step - loss: 0.0502 - accuracy: 0.9772\n",
            "loss_and_metrics_orange : [0.0502471923828125, 0.9772440195083618]\n"
          ]
        }
      ]
    },
    {
      "cell_type": "code",
      "source": [
        "# 모델 저장하기\n",
        "from keras.models import load_model\n",
        "model.save('apple_orange_VGG16_Dense64_128_epoch30.h5')\n",
        "\n",
        "# 2. 모델 불러오기\n",
        "# from keras.models import load_model\n",
        "# model = load_model('모델파일명.h5')"
      ],
      "metadata": {
        "id": "LP2fGcMszCfg"
      },
      "execution_count": 15,
      "outputs": []
    }
  ],
  "metadata": {
    "accelerator": "GPU",
    "colab": {
      "provenance": []
    },
    "gpuClass": "premium",
    "kernelspec": {
      "display_name": "Python 3",
      "name": "python3"
    },
    "language_info": {
      "name": "python"
    }
  },
  "nbformat": 4,
  "nbformat_minor": 0
}