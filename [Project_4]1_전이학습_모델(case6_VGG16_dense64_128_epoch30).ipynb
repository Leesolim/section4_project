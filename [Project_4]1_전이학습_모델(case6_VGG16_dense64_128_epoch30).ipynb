{
  "cells": [
    {
      "cell_type": "code",
      "execution_count": null,
      "metadata": {
        "id": "1Ob_AlDhHAD8",
        "colab": {
          "base_uri": "https://localhost:8080/"
        },
        "outputId": "c6c47b53-94c5-4462-9341-46c90a4f4969"
      },
      "outputs": [
        {
          "output_type": "stream",
          "name": "stdout",
          "text": [
            "Downloading data from https://storage.googleapis.com/tensorflow/keras-applications/vgg16/vgg16_weights_tf_dim_ordering_tf_kernels_notop.h5\n",
            "58889256/58889256 [==============================] - 0s 0us/step\n"
          ]
        }
      ],
      "source": [
        "import numpy as np\n",
        " \n",
        "from tensorflow.keras.applications.vgg16 import VGG16\n",
        "from tensorflow.keras.preprocessing import image\n",
        "from tensorflow.keras.applications.vgg16 import preprocess_input, decode_predictions\n",
        " \n",
        "from tensorflow.keras.layers import Dense, GlobalAveragePooling2D, Dropout\n",
        "from tensorflow.keras.models import Model # This is the functional API\n",
        " \n",
        "vgg = VGG16(weights='imagenet', include_top=False) # 모델에서 Fully Connected layer 부분을 제거해주는 역할"
      ]
    },
    {
      "cell_type": "code",
      "execution_count": null,
      "metadata": {
        "colab": {
          "base_uri": "https://localhost:8080/"
        },
        "id": "LIJBx567HhxD",
        "outputId": "597655ae-8d7b-4459-f95d-011637278766"
      },
      "outputs": [
        {
          "output_type": "stream",
          "name": "stdout",
          "text": [
            "Mounted at /content/drive\n"
          ]
        }
      ],
      "source": [
        "from google.colab import drive\n",
        "\n",
        "drive.mount('/content/drive')"
      ]
    },
    {
      "cell_type": "code",
      "execution_count": null,
      "metadata": {
        "id": "2HPwx8O9Hhz1"
      },
      "outputs": [],
      "source": [
        "import os\n",
        "\n",
        "base_dir = '/content/drive/MyDrive/apple'\n",
        "\n",
        "train_dir = os.path.join(base_dir, 'train')\n",
        "train_fresh_dir = os.path.join(train_dir, 'fresh')\n",
        "train_rotten_dir = os.path.join(train_dir, 'rotten')\n",
        "\n",
        "test_apple_dir = os.path.join(base_dir, 'test_apple')\n",
        "test_apple_fresh_dir = os.path.join(test_apple_dir, 'fresh')\n",
        "test_apple_rotten_dir = os.path.join(test_apple_dir, 'rotten')\n",
        "\n",
        "test_banana_dir = os.path.join(base_dir, 'test_banana')\n",
        "test_banana_fresh_dir = os.path.join(test_banana_dir, 'fresh')\n",
        "test_banana_rotten_dir = os.path.join(test_banana_dir, 'rotten')\n",
        "\n",
        "test_orange_dir = os.path.join(base_dir, 'test_orange')\n",
        "test_orange_fresh_dir = os.path.join(test_orange_dir, 'fresh')\n",
        "test_orange_rotten_dir = os.path.join(test_orange_dir, 'rotten')"
      ]
    },
    {
      "cell_type": "code",
      "execution_count": null,
      "metadata": {
        "colab": {
          "base_uri": "https://localhost:8080/"
        },
        "id": "Tn44knjAHh2z",
        "outputId": "46f4de7e-69b3-481b-c748-99a19fb66bb7"
      },
      "outputs": [
        {
          "output_type": "stream",
          "name": "stdout",
          "text": [
            "['Screen Shot 2018-06-08 at 4.59.36 PM.png', 'Screen Shot 2018-06-08 at 4.59.49 PM.png', 'Screen Shot 2018-06-08 at 4.59.57 PM.png', 'Screen Shot 2018-06-08 at 5.00.03 PM.png', 'Screen Shot 2018-06-08 at 5.00.12 PM.png', 'Screen Shot 2018-06-08 at 5.00.18 PM.png', 'Screen Shot 2018-06-08 at 5.00.26 PM.png', 'Screen Shot 2018-06-08 at 5.00.35 PM.png', 'Screen Shot 2018-06-08 at 5.00.43 PM.png', 'Screen Shot 2018-06-08 at 5.00.50 PM.png']\n",
            "['Screen Shot 2018-06-07 at 2.15.20 PM.png', 'Screen Shot 2018-06-07 at 2.15.50 PM.png', 'Screen Shot 2018-06-07 at 2.16.18 PM.png', 'Screen Shot 2018-06-07 at 2.16.41 PM.png', 'Screen Shot 2018-06-07 at 2.17.15 PM.png', 'Screen Shot 2018-06-07 at 2.17.25 PM.png', 'Screen Shot 2018-06-07 at 2.18.13 PM.png', 'Screen Shot 2018-06-07 at 2.18.57 PM.png', 'Screen Shot 2018-06-07 at 2.19.15 PM.png', 'Screen Shot 2018-06-07 at 2.19.37 PM.png']\n"
          ]
        }
      ],
      "source": [
        "train_fresh_fnames = os.listdir(train_fresh_dir)\n",
        "train_fresh_fnames.sort()\n",
        "print(train_fresh_fnames[:10])\n",
        "\n",
        "train_rotten_fnames = os.listdir(train_rotten_dir)\n",
        "train_rotten_fnames.sort()\n",
        "print(train_rotten_fnames[:10])"
      ]
    },
    {
      "cell_type": "code",
      "execution_count": null,
      "metadata": {
        "colab": {
          "base_uri": "https://localhost:8080/"
        },
        "id": "c9NtvDJXHh5I",
        "outputId": "71c4d648-36ba-4dc6-fedb-a5eee440b179"
      },
      "outputs": [
        {
          "output_type": "stream",
          "name": "stdout",
          "text": [
            "total training fresh images: 1693\n",
            "total training rotten images: 2342\n",
            "total test_apple fresh images: 395\n",
            "total test_apple rotten images: 601\n",
            "total test_banana fresh images: 381\n",
            "total test_banana rotten images: 530\n",
            "total test_orange fresh images: 388\n",
            "total test_orange rotten images: 403\n"
          ]
        }
      ],
      "source": [
        "print('total training fresh images:', len(os.listdir(train_fresh_dir)))\n",
        "print('total training rotten images:', len(os.listdir(train_rotten_dir)))\n",
        "print('total test_apple fresh images:', len(os.listdir(test_apple_fresh_dir)))\n",
        "print('total test_apple rotten images:', len(os.listdir(test_apple_rotten_dir)))\n",
        "print('total test_banana fresh images:', len(os.listdir(test_banana_fresh_dir)))\n",
        "print('total test_banana rotten images:', len(os.listdir(test_banana_rotten_dir)))\n",
        "print('total test_orange fresh images:', len(os.listdir(test_orange_fresh_dir)))\n",
        "print('total test_orange rotten images:', len(os.listdir(test_orange_rotten_dir)))"
      ]
    },
    {
      "cell_type": "code",
      "execution_count": null,
      "metadata": {
        "id": "f8UBaGyOHh7f"
      },
      "outputs": [],
      "source": [
        "from tensorflow.keras import layers\n",
        "img_input = layers.Input(shape=(224*224*3))"
      ]
    },
    {
      "cell_type": "code",
      "execution_count": null,
      "metadata": {
        "colab": {
          "base_uri": "https://localhost:8080/"
        },
        "id": "juIvknTnHh-G",
        "outputId": "f2c6db43-e69c-426b-de2a-15c13a35df29"
      },
      "outputs": [
        {
          "output_type": "stream",
          "name": "stdout",
          "text": [
            "Found 4035 images belonging to 2 classes.\n",
            "Found 996 images belonging to 2 classes.\n",
            "Found 911 images belonging to 2 classes.\n",
            "Found 791 images belonging to 2 classes.\n"
          ]
        }
      ],
      "source": [
        "from keras.preprocessing.image import ImageDataGenerator\n",
        "\n",
        "train_datagen = ImageDataGenerator(rescale=1./255)\n",
        "test_apple_datagen = ImageDataGenerator(rescale=1./255)\n",
        "test_banana_datagen = ImageDataGenerator(rescale=1./255)\n",
        "test_orange_datagen = ImageDataGenerator(rescale=1./255)\n",
        "\n",
        "train_generator = train_datagen.flow_from_directory(\n",
        "        train_dir,  \n",
        "        target_size=(224, 224),\n",
        "        batch_size=256,\n",
        "        classes = ['fresh','rotten'],\n",
        "        class_mode=\"binary\")\n",
        "\n",
        "test_apple_generator = test_apple_datagen.flow_from_directory(\n",
        "        test_apple_dir,\n",
        "        target_size=(224, 224),\n",
        "        batch_size=256,\n",
        "        classes = ['fresh', 'rotten'],\n",
        "        class_mode=\"binary\")\n",
        "\n",
        "\n",
        "test_banana_generator = test_banana_datagen.flow_from_directory(\n",
        "        test_banana_dir,\n",
        "        target_size=(224, 224),\n",
        "        batch_size=256,\n",
        "        classes = ['fresh', 'rotten'],\n",
        "        class_mode=\"binary\")\n",
        "\n",
        "test_orange_generator = test_orange_datagen.flow_from_directory(\n",
        "        test_orange_dir,\n",
        "        target_size=(224, 224),\n",
        "        batch_size=256,\n",
        "        classes = ['fresh', 'rotten'],\n",
        "        class_mode=\"binary\")\n",
        "\n",
        "\n",
        "# 전체데이터 : 배치사이즈 수정 필요\n",
        "# resnet50 input image size ; 224 x 224 x 3"
      ]
    },
    {
      "cell_type": "code",
      "execution_count": null,
      "metadata": {
        "id": "0lTGOc4oMWEP"
      },
      "outputs": [],
      "source": [
        "for layer in vgg.layers:\n",
        "    layer.trainable = False\n",
        "# ResNet50 레이어들의 파라미터를 학습하지 않도록 설정합니다.\n",
        "# 이렇게 설정된 매개 변수는 역전파를 통해 오차 정보가 전파 되더라도 파라미터가 업데이트 되지 않습니다."
      ]
    },
    {
      "cell_type": "code",
      "execution_count": null,
      "metadata": {
        "id": "Waj9pK2gMWG6"
      },
      "outputs": [],
      "source": [
        "x = vgg.output\n",
        "x = GlobalAveragePooling2D()(x)\n",
        "x = Dense(64, activation='relu')(x)\n",
        "x = Dense(128, activation='relu')(x)\n",
        "x = Dropout(0.2)(x)\n",
        "predictions = Dense(1, activation='sigmoid')(x)\n",
        "model = Model(vgg.input, predictions)"
      ]
    },
    {
      "cell_type": "code",
      "execution_count": null,
      "metadata": {
        "id": "uXZKp7vqMWJ1"
      },
      "outputs": [],
      "source": [
        "model.compile(optimizer=\"adam\", loss=\"binary_crossentropy\", metrics=[\"accuracy\"])"
      ]
    },
    {
      "cell_type": "code",
      "execution_count": null,
      "metadata": {
        "colab": {
          "base_uri": "https://localhost:8080/"
        },
        "id": "YsUeeURnQ1pP",
        "outputId": "be74187f-df56-456c-c4af-1e1da362fbed"
      },
      "outputs": [
        {
          "output_type": "stream",
          "name": "stdout",
          "text": [
            "Epoch 1/30\n",
            "16/16 [==============================] - 443s 29s/step - loss: 0.5498 - accuracy: 0.7594\n",
            "Epoch 2/30\n",
            "16/16 [==============================] - 19s 1s/step - loss: 0.3768 - accuracy: 0.8644\n",
            "Epoch 3/30\n",
            "16/16 [==============================] - 19s 1s/step - loss: 0.2932 - accuracy: 0.8947\n",
            "Epoch 4/30\n",
            "16/16 [==============================] - 19s 1s/step - loss: 0.2479 - accuracy: 0.9090\n",
            "Epoch 5/30\n",
            "16/16 [==============================] - 19s 1s/step - loss: 0.2146 - accuracy: 0.9323\n",
            "Epoch 6/30\n",
            "16/16 [==============================] - 19s 1s/step - loss: 0.1912 - accuracy: 0.9383\n",
            "Epoch 7/30\n",
            "16/16 [==============================] - 19s 1s/step - loss: 0.1688 - accuracy: 0.9465\n",
            "Epoch 8/30\n",
            "16/16 [==============================] - 19s 1s/step - loss: 0.1536 - accuracy: 0.9554\n",
            "Epoch 9/30\n",
            "16/16 [==============================] - 19s 1s/step - loss: 0.1418 - accuracy: 0.9596\n",
            "Epoch 10/30\n",
            "16/16 [==============================] - 19s 1s/step - loss: 0.1363 - accuracy: 0.9579\n",
            "Epoch 11/30\n",
            "16/16 [==============================] - 19s 1s/step - loss: 0.1264 - accuracy: 0.9623\n",
            "Epoch 12/30\n",
            "16/16 [==============================] - 19s 1s/step - loss: 0.1180 - accuracy: 0.9636\n",
            "Epoch 13/30\n",
            "16/16 [==============================] - 19s 1s/step - loss: 0.1100 - accuracy: 0.9670\n",
            "Epoch 14/30\n",
            "16/16 [==============================] - 19s 1s/step - loss: 0.1024 - accuracy: 0.9708\n",
            "Epoch 15/30\n",
            "16/16 [==============================] - 19s 1s/step - loss: 0.0960 - accuracy: 0.9722\n",
            "Epoch 16/30\n",
            "16/16 [==============================] - 19s 1s/step - loss: 0.0916 - accuracy: 0.9747\n",
            "Epoch 17/30\n",
            "16/16 [==============================] - 19s 1s/step - loss: 0.0873 - accuracy: 0.9720\n",
            "Epoch 18/30\n",
            "16/16 [==============================] - 19s 1s/step - loss: 0.0839 - accuracy: 0.9760\n",
            "Epoch 19/30\n",
            "16/16 [==============================] - 19s 1s/step - loss: 0.0793 - accuracy: 0.9750\n",
            "Epoch 20/30\n",
            "16/16 [==============================] - 19s 1s/step - loss: 0.0781 - accuracy: 0.9757\n",
            "Epoch 21/30\n",
            "16/16 [==============================] - 19s 1s/step - loss: 0.0718 - accuracy: 0.9784\n",
            "Epoch 22/30\n",
            "16/16 [==============================] - 19s 1s/step - loss: 0.0682 - accuracy: 0.9797\n",
            "Epoch 23/30\n",
            "16/16 [==============================] - 19s 1s/step - loss: 0.0669 - accuracy: 0.9797\n",
            "Epoch 24/30\n",
            "16/16 [==============================] - 19s 1s/step - loss: 0.0626 - accuracy: 0.9824\n",
            "Epoch 25/30\n",
            "16/16 [==============================] - 19s 1s/step - loss: 0.0616 - accuracy: 0.9822\n",
            "Epoch 26/30\n",
            "16/16 [==============================] - 19s 1s/step - loss: 0.0589 - accuracy: 0.9829\n",
            "Epoch 27/30\n",
            "16/16 [==============================] - 19s 1s/step - loss: 0.0551 - accuracy: 0.9861\n",
            "Epoch 28/30\n",
            "16/16 [==============================] - 19s 1s/step - loss: 0.0531 - accuracy: 0.9869\n",
            "Epoch 29/30\n",
            "16/16 [==============================] - 19s 1s/step - loss: 0.0506 - accuracy: 0.9864\n",
            "Epoch 30/30\n",
            "16/16 [==============================] - 19s 1s/step - loss: 0.0507 - accuracy: 0.9876\n"
          ]
        }
      ],
      "source": [
        "history = model.fit(\n",
        "      train_generator, \n",
        "      epochs=30,\n",
        "      verbose=1)"
      ]
    },
    {
      "cell_type": "code",
      "execution_count": null,
      "metadata": {
        "id": "itbPnkQDQ1xP",
        "colab": {
          "base_uri": "https://localhost:8080/"
        },
        "outputId": "b85ca081-b626-41ae-b94c-cabb01343543"
      },
      "outputs": [
        {
          "output_type": "stream",
          "name": "stdout",
          "text": [
            "4/4 [==============================] - 218s 72s/step - loss: 0.0555 - accuracy: 0.9849\n",
            "loss_and_metrics_apple : [0.05548738315701485, 0.9849397540092468]\n"
          ]
        }
      ],
      "source": [
        "loss_and_metrics_apple = model.evaluate(test_apple_generator)\n",
        "print('loss_and_metrics_apple : ' + str(loss_and_metrics_apple))"
      ]
    },
    {
      "cell_type": "code",
      "execution_count": null,
      "metadata": {
        "id": "2Ka0QNBOQ10Q",
        "colab": {
          "base_uri": "https://localhost:8080/"
        },
        "outputId": "3f3c62ca-97be-4db7-d431-c67e89e72220"
      },
      "outputs": [
        {
          "output_type": "stream",
          "name": "stdout",
          "text": [
            "4/4 [==============================] - 186s 62s/step - loss: 0.4837 - accuracy: 0.8397\n",
            "loss_and_metrics_banana : [0.48366880416870117, 0.8397365808486938]\n"
          ]
        }
      ],
      "source": [
        "loss_and_metrics_banana = model.evaluate(test_banana_generator)\n",
        "print('loss_and_metrics_banana : ' + str(loss_and_metrics_banana))"
      ]
    },
    {
      "cell_type": "code",
      "source": [
        "loss_and_metrics_orange = model.evaluate(test_orange_generator)\n",
        "print('loss_and_metrics_orange : ' + str(loss_and_metrics_orange))"
      ],
      "metadata": {
        "id": "ltlergFu_zp8",
        "colab": {
          "base_uri": "https://localhost:8080/"
        },
        "outputId": "ec7f3557-26f8-482e-bc34-24f94c4f69b2"
      },
      "execution_count": null,
      "outputs": [
        {
          "output_type": "stream",
          "name": "stdout",
          "text": [
            "4/4 [==============================] - 159s 52s/step - loss: 0.2970 - accuracy: 0.8824\n",
            "loss_and_metrics_orange : [0.29697757959365845, 0.8824273347854614]\n"
          ]
        }
      ]
    },
    {
      "cell_type": "code",
      "source": [
        "# 모델 저장하기\n",
        "from keras.models import load_model\n",
        "model.save('apple_VGG16_Dense256_epoch30.h5')\n",
        "\n",
        "# 2. 모델 불러오기\n",
        "# from keras.models import load_model\n",
        "# model = load_model('모델파일명.h5')"
      ],
      "metadata": {
        "id": "LP2fGcMszCfg"
      },
      "execution_count": null,
      "outputs": []
    }
  ],
  "metadata": {
    "accelerator": "GPU",
    "colab": {
      "provenance": []
    },
    "gpuClass": "premium",
    "kernelspec": {
      "display_name": "Python 3",
      "name": "python3"
    },
    "language_info": {
      "name": "python"
    }
  },
  "nbformat": 4,
  "nbformat_minor": 0
}