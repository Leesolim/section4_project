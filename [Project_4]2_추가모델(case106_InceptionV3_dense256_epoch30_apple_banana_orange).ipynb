{
  "cells": [
    {
      "cell_type": "code",
      "execution_count": 1,
      "metadata": {
        "id": "1Ob_AlDhHAD8",
        "colab": {
          "base_uri": "https://localhost:8080/"
        },
        "outputId": "078dbd78-efc9-47c9-fc6a-b33c483c67c7"
      },
      "outputs": [
        {
          "output_type": "stream",
          "name": "stdout",
          "text": [
            "Downloading data from https://storage.googleapis.com/tensorflow/keras-applications/inception_v3/inception_v3_weights_tf_dim_ordering_tf_kernels_notop.h5\n",
            "87910968/87910968 [==============================] - 1s 0us/step\n"
          ]
        }
      ],
      "source": [
        "import numpy as np\n",
        " \n",
        "from tensorflow.keras.applications.inception_v3 import InceptionV3\n",
        "from tensorflow.keras.preprocessing import image\n",
        "from tensorflow.keras.applications.inception_v3 import preprocess_input, decode_predictions\n",
        " \n",
        "from tensorflow.keras.layers import Dense, GlobalAveragePooling2D, Dropout\n",
        "from tensorflow.keras.models import Model # This is the functional API\n",
        " \n",
        "inception =InceptionV3(weights='imagenet', include_top=False) # 모델에서 Fully Connected layer 부분을 제거해주는 역할"
      ]
    },
    {
      "cell_type": "code",
      "execution_count": 2,
      "metadata": {
        "colab": {
          "base_uri": "https://localhost:8080/"
        },
        "id": "LIJBx567HhxD",
        "outputId": "1598e8ce-5032-4a37-aa1e-b22e18b4654e"
      },
      "outputs": [
        {
          "output_type": "stream",
          "name": "stdout",
          "text": [
            "Mounted at /content/drive\n"
          ]
        }
      ],
      "source": [
        "from google.colab import drive\n",
        "\n",
        "drive.mount('/content/drive')"
      ]
    },
    {
      "cell_type": "code",
      "execution_count": 3,
      "metadata": {
        "id": "2HPwx8O9Hhz1"
      },
      "outputs": [],
      "source": [
        "import os\n",
        "\n",
        "base_dir = '/content/drive/MyDrive/apple'\n",
        "base_apple_banana_orange_dir = '/content/drive/MyDrive/apple_banana_orange'\n",
        "\n",
        "train_dir = os.path.join(base_apple_banana_orange_dir, 'train')\n",
        "train_fresh_dir = os.path.join(train_dir, 'fresh')\n",
        "train_rotten_dir = os.path.join(train_dir, 'rotten')\n",
        "\n",
        "test_apple_dir = os.path.join(base_dir, 'test_apple')\n",
        "test_apple_fresh_dir = os.path.join(test_apple_dir, 'fresh')\n",
        "test_apple_rotten_dir = os.path.join(test_apple_dir, 'rotten')\n",
        "\n",
        "test_banana_dir = os.path.join(base_dir, 'test_banana')\n",
        "test_banana_fresh_dir = os.path.join(test_banana_dir, 'fresh')\n",
        "test_banana_rotten_dir = os.path.join(test_banana_dir, 'rotten')\n",
        "\n",
        "test_orange_dir = os.path.join(base_dir, 'test_orange')\n",
        "test_orange_fresh_dir = os.path.join(test_orange_dir, 'fresh')\n",
        "test_orange_rotten_dir = os.path.join(test_orange_dir, 'rotten')"
      ]
    },
    {
      "cell_type": "code",
      "execution_count": 4,
      "metadata": {
        "colab": {
          "base_uri": "https://localhost:8080/"
        },
        "id": "Tn44knjAHh2z",
        "outputId": "0e87ed60-3ccb-46ca-d1a5-1fe71c6bbd3e"
      },
      "outputs": [
        {
          "output_type": "stream",
          "name": "stdout",
          "text": [
            "['Screen Shot 2018-06-08 at 4.59.36 PM.png', 'Screen Shot 2018-06-08 at 4.59.49 PM.png', 'Screen Shot 2018-06-08 at 4.59.57 PM.png', 'Screen Shot 2018-06-08 at 5.00.03 PM.png', 'Screen Shot 2018-06-08 at 5.00.12 PM.png', 'Screen Shot 2018-06-08 at 5.00.18 PM.png', 'Screen Shot 2018-06-08 at 5.00.26 PM.png', 'Screen Shot 2018-06-08 at 5.00.35 PM.png', 'Screen Shot 2018-06-08 at 5.00.43 PM.png', 'Screen Shot 2018-06-08 at 5.00.50 PM.png']\n",
            "['Screen Shot 2018-06-07 at 2.15.20 PM.png', 'Screen Shot 2018-06-07 at 2.15.50 PM.png', 'Screen Shot 2018-06-07 at 2.16.18 PM.png', 'Screen Shot 2018-06-07 at 2.16.41 PM.png', 'Screen Shot 2018-06-07 at 2.17.15 PM.png', 'Screen Shot 2018-06-07 at 2.17.25 PM.png', 'Screen Shot 2018-06-07 at 2.18.13 PM.png', 'Screen Shot 2018-06-07 at 2.18.57 PM.png', 'Screen Shot 2018-06-07 at 2.19.15 PM.png', 'Screen Shot 2018-06-07 at 2.19.37 PM.png']\n"
          ]
        }
      ],
      "source": [
        "train_fresh_fnames = os.listdir(train_fresh_dir)\n",
        "train_fresh_fnames.sort()\n",
        "print(train_fresh_fnames[:10])\n",
        "\n",
        "train_rotten_fnames = os.listdir(train_rotten_dir)\n",
        "train_rotten_fnames.sort()\n",
        "print(train_rotten_fnames[:10])"
      ]
    },
    {
      "cell_type": "code",
      "execution_count": 5,
      "metadata": {
        "colab": {
          "base_uri": "https://localhost:8080/"
        },
        "id": "c9NtvDJXHh5I",
        "outputId": "1e5a3707-dbc3-4b01-f8ba-25fdad4c51ae"
      },
      "outputs": [
        {
          "output_type": "stream",
          "name": "stdout",
          "text": [
            "total training fresh images: 4740\n",
            "total training rotten images: 6161\n",
            "total test_apple fresh images: 395\n",
            "total test_apple rotten images: 601\n",
            "total test_banana fresh images: 381\n",
            "total test_banana rotten images: 530\n",
            "total test_orange fresh images: 388\n",
            "total test_orange rotten images: 403\n"
          ]
        }
      ],
      "source": [
        "print('total training fresh images:', len(os.listdir(train_fresh_dir)))\n",
        "print('total training rotten images:', len(os.listdir(train_rotten_dir)))\n",
        "print('total test_apple fresh images:', len(os.listdir(test_apple_fresh_dir)))\n",
        "print('total test_apple rotten images:', len(os.listdir(test_apple_rotten_dir)))\n",
        "print('total test_banana fresh images:', len(os.listdir(test_banana_fresh_dir)))\n",
        "print('total test_banana rotten images:', len(os.listdir(test_banana_rotten_dir)))\n",
        "print('total test_orange fresh images:', len(os.listdir(test_orange_fresh_dir)))\n",
        "print('total test_orange rotten images:', len(os.listdir(test_orange_rotten_dir)))"
      ]
    },
    {
      "cell_type": "code",
      "execution_count": 6,
      "metadata": {
        "id": "f8UBaGyOHh7f"
      },
      "outputs": [],
      "source": [
        "from tensorflow.keras import layers\n",
        "img_input = layers.Input(shape=(224*224*3))"
      ]
    },
    {
      "cell_type": "code",
      "execution_count": 7,
      "metadata": {
        "colab": {
          "base_uri": "https://localhost:8080/"
        },
        "id": "juIvknTnHh-G",
        "outputId": "e7b3d95a-d0c4-490c-9441-14c694969631"
      },
      "outputs": [
        {
          "output_type": "stream",
          "name": "stdout",
          "text": [
            "Found 10901 images belonging to 2 classes.\n",
            "Found 996 images belonging to 2 classes.\n",
            "Found 911 images belonging to 2 classes.\n",
            "Found 791 images belonging to 2 classes.\n"
          ]
        }
      ],
      "source": [
        "from keras.preprocessing.image import ImageDataGenerator\n",
        "\n",
        "train_datagen = ImageDataGenerator(rescale=1./255)\n",
        "test_apple_datagen = ImageDataGenerator(rescale=1./255)\n",
        "test_banana_datagen = ImageDataGenerator(rescale=1./255)\n",
        "test_orange_datagen = ImageDataGenerator(rescale=1./255)\n",
        "\n",
        "train_generator = train_datagen.flow_from_directory(\n",
        "        train_dir,  \n",
        "        target_size=(224, 224),\n",
        "        batch_size=256,\n",
        "        classes = ['fresh','rotten'],\n",
        "        class_mode=\"binary\")\n",
        "\n",
        "test_apple_generator = test_apple_datagen.flow_from_directory(\n",
        "        test_apple_dir,\n",
        "        target_size=(224, 224),\n",
        "        batch_size=256,\n",
        "        classes = ['fresh', 'rotten'],\n",
        "        class_mode=\"binary\")\n",
        "\n",
        "\n",
        "test_banana_generator = test_banana_datagen.flow_from_directory(\n",
        "        test_banana_dir,\n",
        "        target_size=(224, 224),\n",
        "        batch_size=256,\n",
        "        classes = ['fresh', 'rotten'],\n",
        "        class_mode=\"binary\")\n",
        "\n",
        "test_orange_generator = test_orange_datagen.flow_from_directory(\n",
        "        test_orange_dir,\n",
        "        target_size=(224, 224),\n",
        "        batch_size=256,\n",
        "        classes = ['fresh', 'rotten'],\n",
        "        class_mode=\"binary\")\n",
        "\n",
        "\n",
        "# 전체데이터 : 배치사이즈 수정 필요\n",
        "# resnet50 input image size ; 224 x 224 x 3"
      ]
    },
    {
      "cell_type": "code",
      "execution_count": 8,
      "metadata": {
        "id": "0lTGOc4oMWEP"
      },
      "outputs": [],
      "source": [
        "for layer in inception.layers:\n",
        "    layer.trainable = False\n",
        "# ResNet50 레이어들의 파라미터를 학습하지 않도록 설정합니다.\n",
        "# 이렇게 설정된 매개 변수는 역전파를 통해 오차 정보가 전파 되더라도 파라미터가 업데이트 되지 않습니다."
      ]
    },
    {
      "cell_type": "code",
      "execution_count": 9,
      "metadata": {
        "id": "Waj9pK2gMWG6"
      },
      "outputs": [],
      "source": [
        "x = inception.output\n",
        "x = GlobalAveragePooling2D()(x)\n",
        "x = Dense(256, activation='relu')(x)\n",
        "predictions = Dense(1, activation='sigmoid')(x)\n",
        "model = Model(inception.input, predictions)"
      ]
    },
    {
      "cell_type": "code",
      "execution_count": 10,
      "metadata": {
        "id": "uXZKp7vqMWJ1"
      },
      "outputs": [],
      "source": [
        "model.compile(optimizer=\"adam\", loss=\"binary_crossentropy\", metrics=[\"accuracy\"])"
      ]
    },
    {
      "cell_type": "code",
      "execution_count": 11,
      "metadata": {
        "colab": {
          "base_uri": "https://localhost:8080/"
        },
        "id": "YsUeeURnQ1pP",
        "outputId": "934bbaf0-7e10-4ed8-a785-31b5381c8f0b"
      },
      "outputs": [
        {
          "output_type": "stream",
          "name": "stdout",
          "text": [
            "Epoch 1/30\n",
            "43/43 [==============================] - 1682s 39s/step - loss: 0.1978 - accuracy: 0.9155\n",
            "Epoch 2/30\n",
            "43/43 [==============================] - 63s 1s/step - loss: 0.0723 - accuracy: 0.9739\n",
            "Epoch 3/30\n",
            "43/43 [==============================] - 61s 1s/step - loss: 0.0444 - accuracy: 0.9845\n",
            "Epoch 4/30\n",
            "43/43 [==============================] - 61s 1s/step - loss: 0.0330 - accuracy: 0.9902\n",
            "Epoch 5/30\n",
            "43/43 [==============================] - 61s 1s/step - loss: 0.0270 - accuracy: 0.9919\n",
            "Epoch 6/30\n",
            "43/43 [==============================] - 60s 1s/step - loss: 0.0175 - accuracy: 0.9965\n",
            "Epoch 7/30\n",
            "43/43 [==============================] - 61s 1s/step - loss: 0.0134 - accuracy: 0.9978\n",
            "Epoch 8/30\n",
            "43/43 [==============================] - 60s 1s/step - loss: 0.0106 - accuracy: 0.9985\n",
            "Epoch 9/30\n",
            "43/43 [==============================] - 60s 1s/step - loss: 0.0101 - accuracy: 0.9983\n",
            "Epoch 10/30\n",
            "43/43 [==============================] - 59s 1s/step - loss: 0.0070 - accuracy: 0.9994\n",
            "Epoch 11/30\n",
            "43/43 [==============================] - 60s 1s/step - loss: 0.0051 - accuracy: 0.9997\n",
            "Epoch 12/30\n",
            "43/43 [==============================] - 61s 1s/step - loss: 0.0048 - accuracy: 0.9992\n",
            "Epoch 13/30\n",
            "43/43 [==============================] - 59s 1s/step - loss: 0.0033 - accuracy: 0.9997\n",
            "Epoch 14/30\n",
            "43/43 [==============================] - 60s 1s/step - loss: 0.0028 - accuracy: 0.9999\n",
            "Epoch 15/30\n",
            "43/43 [==============================] - 60s 1s/step - loss: 0.0022 - accuracy: 1.0000\n",
            "Epoch 16/30\n",
            "43/43 [==============================] - 60s 1s/step - loss: 0.0019 - accuracy: 1.0000\n",
            "Epoch 17/30\n",
            "43/43 [==============================] - 60s 1s/step - loss: 0.0016 - accuracy: 1.0000\n",
            "Epoch 18/30\n",
            "43/43 [==============================] - 60s 1s/step - loss: 0.0014 - accuracy: 1.0000\n",
            "Epoch 19/30\n",
            "43/43 [==============================] - 59s 1s/step - loss: 0.0012 - accuracy: 1.0000\n",
            "Epoch 20/30\n",
            "43/43 [==============================] - 63s 1s/step - loss: 0.0011 - accuracy: 1.0000\n",
            "Epoch 21/30\n",
            "43/43 [==============================] - 59s 1s/step - loss: 9.4116e-04 - accuracy: 1.0000\n",
            "Epoch 22/30\n",
            "43/43 [==============================] - 59s 1s/step - loss: 8.9498e-04 - accuracy: 1.0000\n",
            "Epoch 23/30\n",
            "43/43 [==============================] - 60s 1s/step - loss: 8.1051e-04 - accuracy: 1.0000\n",
            "Epoch 24/30\n",
            "43/43 [==============================] - 59s 1s/step - loss: 7.3066e-04 - accuracy: 1.0000\n",
            "Epoch 25/30\n",
            "43/43 [==============================] - 60s 1s/step - loss: 6.5952e-04 - accuracy: 1.0000\n",
            "Epoch 26/30\n",
            "43/43 [==============================] - 59s 1s/step - loss: 5.9844e-04 - accuracy: 1.0000\n",
            "Epoch 27/30\n",
            "43/43 [==============================] - 60s 1s/step - loss: 5.1090e-04 - accuracy: 1.0000\n",
            "Epoch 28/30\n",
            "43/43 [==============================] - 61s 1s/step - loss: 4.8204e-04 - accuracy: 1.0000\n",
            "Epoch 29/30\n",
            "43/43 [==============================] - 60s 1s/step - loss: 4.3921e-04 - accuracy: 1.0000\n",
            "Epoch 30/30\n",
            "43/43 [==============================] - 61s 1s/step - loss: 4.1225e-04 - accuracy: 1.0000\n"
          ]
        }
      ],
      "source": [
        "history = model.fit(\n",
        "      train_generator, \n",
        "      epochs=30,\n",
        "      verbose=1)"
      ]
    },
    {
      "cell_type": "code",
      "execution_count": 12,
      "metadata": {
        "id": "itbPnkQDQ1xP",
        "colab": {
          "base_uri": "https://localhost:8080/"
        },
        "outputId": "85272299-dd63-4d13-929f-32d008761301"
      },
      "outputs": [
        {
          "output_type": "stream",
          "name": "stdout",
          "text": [
            "4/4 [==============================] - 221s 73s/step - loss: 0.0094 - accuracy: 0.9980\n",
            "loss_and_metrics_apple : [0.009382816031575203, 0.9979919791221619]\n"
          ]
        }
      ],
      "source": [
        "loss_and_metrics_apple = model.evaluate(test_apple_generator)\n",
        "print('loss_and_metrics_apple : ' + str(loss_and_metrics_apple))"
      ]
    },
    {
      "cell_type": "code",
      "execution_count": 13,
      "metadata": {
        "id": "2Ka0QNBOQ10Q",
        "colab": {
          "base_uri": "https://localhost:8080/"
        },
        "outputId": "4a127978-109f-403d-eb71-c0ebceee551f"
      },
      "outputs": [
        {
          "output_type": "stream",
          "name": "stdout",
          "text": [
            "4/4 [==============================] - 190s 63s/step - loss: 0.0033 - accuracy: 0.9989\n",
            "loss_and_metrics_banana : [0.0033220830373466015, 0.9989023208618164]\n"
          ]
        }
      ],
      "source": [
        "loss_and_metrics_banana = model.evaluate(test_banana_generator)\n",
        "print('loss_and_metrics_banana : ' + str(loss_and_metrics_banana))"
      ]
    },
    {
      "cell_type": "code",
      "source": [
        "loss_and_metrics_orange = model.evaluate(test_orange_generator)\n",
        "print('loss_and_metrics_orange : ' + str(loss_and_metrics_orange))"
      ],
      "metadata": {
        "id": "ltlergFu_zp8",
        "colab": {
          "base_uri": "https://localhost:8080/"
        },
        "outputId": "482fdc9e-cdb1-4128-ddc1-5279f28dcbb6"
      },
      "execution_count": 14,
      "outputs": [
        {
          "output_type": "stream",
          "name": "stdout",
          "text": [
            "4/4 [==============================] - 150s 50s/step - loss: 0.0153 - accuracy: 0.9937\n",
            "loss_and_metrics_orange : [0.015255576930940151, 0.993678867816925]\n"
          ]
        }
      ]
    },
    {
      "cell_type": "code",
      "source": [
        "# 모델 저장하기\n",
        "from keras.models import load_model\n",
        "model.save('apple_banana_orange_InceptionV3_Dense256_epoch30.h5')\n",
        "\n",
        "# 2. 모델 불러오기\n",
        "# from keras.models import load_model\n",
        "# model = load_model('모델파일명.h5')"
      ],
      "metadata": {
        "id": "LP2fGcMszCfg"
      },
      "execution_count": 15,
      "outputs": []
    }
  ],
  "metadata": {
    "accelerator": "GPU",
    "colab": {
      "provenance": []
    },
    "gpuClass": "standard",
    "kernelspec": {
      "display_name": "Python 3",
      "name": "python3"
    },
    "language_info": {
      "name": "python"
    }
  },
  "nbformat": 4,
  "nbformat_minor": 0
}