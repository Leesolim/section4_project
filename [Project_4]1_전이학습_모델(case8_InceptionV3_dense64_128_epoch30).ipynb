{
  "cells": [
    {
      "cell_type": "code",
      "execution_count": 3,
      "metadata": {
        "id": "1Ob_AlDhHAD8",
        "colab": {
          "base_uri": "https://localhost:8080/"
        },
        "outputId": "08d92cd6-f303-4d48-d0c0-e7ef6772861d"
      },
      "outputs": [
        {
          "output_type": "stream",
          "name": "stdout",
          "text": [
            "Downloading data from https://storage.googleapis.com/tensorflow/keras-applications/inception_v3/inception_v3_weights_tf_dim_ordering_tf_kernels_notop.h5\n",
            "87910968/87910968 [==============================] - 1s 0us/step\n"
          ]
        }
      ],
      "source": [
        "import numpy as np\n",
        " \n",
        "from tensorflow.keras.applications.inception_v3 import InceptionV3\n",
        "from tensorflow.keras.preprocessing import image\n",
        "from tensorflow.keras.applications.inception_v3 import preprocess_input, decode_predictions\n",
        " \n",
        "from tensorflow.keras.layers import Dense, GlobalAveragePooling2D, Dropout\n",
        "from tensorflow.keras.models import Model # This is the functional API\n",
        " \n",
        "inception =InceptionV3(weights='imagenet', include_top=False) # 모델에서 Fully Connected layer 부분을 제거해주는 역할"
      ]
    },
    {
      "cell_type": "code",
      "execution_count": 4,
      "metadata": {
        "colab": {
          "base_uri": "https://localhost:8080/"
        },
        "id": "LIJBx567HhxD",
        "outputId": "121a0186-0bec-4ee8-8639-b12a36713cd9"
      },
      "outputs": [
        {
          "output_type": "stream",
          "name": "stdout",
          "text": [
            "Mounted at /content/drive\n"
          ]
        }
      ],
      "source": [
        "from google.colab import drive\n",
        "\n",
        "drive.mount('/content/drive')"
      ]
    },
    {
      "cell_type": "code",
      "execution_count": 5,
      "metadata": {
        "id": "2HPwx8O9Hhz1"
      },
      "outputs": [],
      "source": [
        "import os\n",
        "\n",
        "base_dir = '/content/drive/MyDrive/apple'\n",
        "\n",
        "train_dir = os.path.join(base_dir, 'train')\n",
        "train_fresh_dir = os.path.join(train_dir, 'fresh')\n",
        "train_rotten_dir = os.path.join(train_dir, 'rotten')\n",
        "\n",
        "test_apple_dir = os.path.join(base_dir, 'test_apple')\n",
        "test_apple_fresh_dir = os.path.join(test_apple_dir, 'fresh')\n",
        "test_apple_rotten_dir = os.path.join(test_apple_dir, 'rotten')\n",
        "\n",
        "test_banana_dir = os.path.join(base_dir, 'test_banana')\n",
        "test_banana_fresh_dir = os.path.join(test_banana_dir, 'fresh')\n",
        "test_banana_rotten_dir = os.path.join(test_banana_dir, 'rotten')\n",
        "\n",
        "test_orange_dir = os.path.join(base_dir, 'test_orange')\n",
        "test_orange_fresh_dir = os.path.join(test_orange_dir, 'fresh')\n",
        "test_orange_rotten_dir = os.path.join(test_orange_dir, 'rotten')"
      ]
    },
    {
      "cell_type": "code",
      "execution_count": 6,
      "metadata": {
        "colab": {
          "base_uri": "https://localhost:8080/"
        },
        "id": "Tn44knjAHh2z",
        "outputId": "51a2814d-fb6c-4f8e-cd4f-827f52590993"
      },
      "outputs": [
        {
          "output_type": "stream",
          "name": "stdout",
          "text": [
            "['Screen Shot 2018-06-08 at 4.59.36 PM.png', 'Screen Shot 2018-06-08 at 4.59.49 PM.png', 'Screen Shot 2018-06-08 at 4.59.57 PM.png', 'Screen Shot 2018-06-08 at 5.00.03 PM.png', 'Screen Shot 2018-06-08 at 5.00.12 PM.png', 'Screen Shot 2018-06-08 at 5.00.18 PM.png', 'Screen Shot 2018-06-08 at 5.00.26 PM.png', 'Screen Shot 2018-06-08 at 5.00.35 PM.png', 'Screen Shot 2018-06-08 at 5.00.43 PM.png', 'Screen Shot 2018-06-08 at 5.00.50 PM.png']\n",
            "['Screen Shot 2018-06-07 at 2.15.20 PM.png', 'Screen Shot 2018-06-07 at 2.15.50 PM.png', 'Screen Shot 2018-06-07 at 2.16.18 PM.png', 'Screen Shot 2018-06-07 at 2.16.41 PM.png', 'Screen Shot 2018-06-07 at 2.17.15 PM.png', 'Screen Shot 2018-06-07 at 2.17.25 PM.png', 'Screen Shot 2018-06-07 at 2.18.13 PM.png', 'Screen Shot 2018-06-07 at 2.18.57 PM.png', 'Screen Shot 2018-06-07 at 2.19.15 PM.png', 'Screen Shot 2018-06-07 at 2.19.37 PM.png']\n"
          ]
        }
      ],
      "source": [
        "train_fresh_fnames = os.listdir(train_fresh_dir)\n",
        "train_fresh_fnames.sort()\n",
        "print(train_fresh_fnames[:10])\n",
        "\n",
        "train_rotten_fnames = os.listdir(train_rotten_dir)\n",
        "train_rotten_fnames.sort()\n",
        "print(train_rotten_fnames[:10])"
      ]
    },
    {
      "cell_type": "code",
      "execution_count": 7,
      "metadata": {
        "colab": {
          "base_uri": "https://localhost:8080/"
        },
        "id": "c9NtvDJXHh5I",
        "outputId": "33a3978f-c9df-4fb5-84f5-fe69de368b6f"
      },
      "outputs": [
        {
          "output_type": "stream",
          "name": "stdout",
          "text": [
            "total training fresh images: 1693\n",
            "total training rotten images: 2342\n",
            "total test_apple fresh images: 395\n",
            "total test_apple rotten images: 601\n",
            "total test_banana fresh images: 381\n",
            "total test_banana rotten images: 530\n",
            "total test_orange fresh images: 388\n",
            "total test_orange rotten images: 403\n"
          ]
        }
      ],
      "source": [
        "print('total training fresh images:', len(os.listdir(train_fresh_dir)))\n",
        "print('total training rotten images:', len(os.listdir(train_rotten_dir)))\n",
        "print('total test_apple fresh images:', len(os.listdir(test_apple_fresh_dir)))\n",
        "print('total test_apple rotten images:', len(os.listdir(test_apple_rotten_dir)))\n",
        "print('total test_banana fresh images:', len(os.listdir(test_banana_fresh_dir)))\n",
        "print('total test_banana rotten images:', len(os.listdir(test_banana_rotten_dir)))\n",
        "print('total test_orange fresh images:', len(os.listdir(test_orange_fresh_dir)))\n",
        "print('total test_orange rotten images:', len(os.listdir(test_orange_rotten_dir)))"
      ]
    },
    {
      "cell_type": "code",
      "execution_count": 8,
      "metadata": {
        "id": "f8UBaGyOHh7f"
      },
      "outputs": [],
      "source": [
        "from tensorflow.keras import layers\n",
        "img_input = layers.Input(shape=(224*224*3))"
      ]
    },
    {
      "cell_type": "code",
      "execution_count": 9,
      "metadata": {
        "colab": {
          "base_uri": "https://localhost:8080/"
        },
        "id": "juIvknTnHh-G",
        "outputId": "29fa78a9-6133-4edc-fe81-1eb0316fc867"
      },
      "outputs": [
        {
          "output_type": "stream",
          "name": "stdout",
          "text": [
            "Found 4035 images belonging to 2 classes.\n",
            "Found 996 images belonging to 2 classes.\n",
            "Found 911 images belonging to 2 classes.\n",
            "Found 791 images belonging to 2 classes.\n"
          ]
        }
      ],
      "source": [
        "from keras.preprocessing.image import ImageDataGenerator\n",
        "\n",
        "train_datagen = ImageDataGenerator(rescale=1./255)\n",
        "test_apple_datagen = ImageDataGenerator(rescale=1./255)\n",
        "test_banana_datagen = ImageDataGenerator(rescale=1./255)\n",
        "test_orange_datagen = ImageDataGenerator(rescale=1./255)\n",
        "\n",
        "train_generator = train_datagen.flow_from_directory(\n",
        "        train_dir,  \n",
        "        target_size=(224, 224),\n",
        "        batch_size=256,\n",
        "        classes = ['fresh','rotten'],\n",
        "        class_mode=\"binary\")\n",
        "\n",
        "test_apple_generator = test_apple_datagen.flow_from_directory(\n",
        "        test_apple_dir,\n",
        "        target_size=(224, 224),\n",
        "        batch_size=256,\n",
        "        classes = ['fresh', 'rotten'],\n",
        "        class_mode=\"binary\")\n",
        "\n",
        "\n",
        "test_banana_generator = test_banana_datagen.flow_from_directory(\n",
        "        test_banana_dir,\n",
        "        target_size=(224, 224),\n",
        "        batch_size=256,\n",
        "        classes = ['fresh', 'rotten'],\n",
        "        class_mode=\"binary\")\n",
        "\n",
        "test_orange_generator = test_orange_datagen.flow_from_directory(\n",
        "        test_orange_dir,\n",
        "        target_size=(224, 224),\n",
        "        batch_size=256,\n",
        "        classes = ['fresh', 'rotten'],\n",
        "        class_mode=\"binary\")\n",
        "\n",
        "\n",
        "# 전체데이터 : 배치사이즈 수정 필요\n",
        "# resnet50 input image size ; 224 x 224 x 3"
      ]
    },
    {
      "cell_type": "code",
      "execution_count": 10,
      "metadata": {
        "id": "0lTGOc4oMWEP"
      },
      "outputs": [],
      "source": [
        "for layer in inception.layers:\n",
        "    layer.trainable = False\n",
        "# ResNet50 레이어들의 파라미터를 학습하지 않도록 설정합니다.\n",
        "# 이렇게 설정된 매개 변수는 역전파를 통해 오차 정보가 전파 되더라도 파라미터가 업데이트 되지 않습니다."
      ]
    },
    {
      "cell_type": "code",
      "execution_count": 11,
      "metadata": {
        "id": "Waj9pK2gMWG6"
      },
      "outputs": [],
      "source": [
        "x = inception.output\n",
        "x = GlobalAveragePooling2D()(x)\n",
        "x = Dense(64, activation='relu')(x)\n",
        "x = Dense(128, activation='relu')(x)\n",
        "x = Dropout(0.2)(x)\n",
        "predictions = Dense(1, activation='sigmoid')(x)\n",
        "model = Model(inception.input, predictions)"
      ]
    },
    {
      "cell_type": "code",
      "execution_count": 12,
      "metadata": {
        "id": "uXZKp7vqMWJ1"
      },
      "outputs": [],
      "source": [
        "model.compile(optimizer=\"adam\", loss=\"binary_crossentropy\", metrics=[\"accuracy\"])"
      ]
    },
    {
      "cell_type": "code",
      "execution_count": 13,
      "metadata": {
        "colab": {
          "base_uri": "https://localhost:8080/"
        },
        "id": "YsUeeURnQ1pP",
        "outputId": "f0a292a3-280e-4a87-b267-34c88fc94854"
      },
      "outputs": [
        {
          "output_type": "stream",
          "name": "stdout",
          "text": [
            "Epoch 1/30\n",
            "16/16 [==============================] - 318s 19s/step - loss: 0.3264 - accuracy: 0.8498\n",
            "Epoch 2/30\n",
            "16/16 [==============================] - 23s 1s/step - loss: 0.1297 - accuracy: 0.9522\n",
            "Epoch 3/30\n",
            "16/16 [==============================] - 22s 1s/step - loss: 0.0852 - accuracy: 0.9688\n",
            "Epoch 4/30\n",
            "16/16 [==============================] - 22s 1s/step - loss: 0.0615 - accuracy: 0.9755\n",
            "Epoch 5/30\n",
            "16/16 [==============================] - 22s 1s/step - loss: 0.0481 - accuracy: 0.9819\n",
            "Epoch 6/30\n",
            "16/16 [==============================] - 22s 1s/step - loss: 0.0367 - accuracy: 0.9876\n",
            "Epoch 7/30\n",
            "16/16 [==============================] - 22s 1s/step - loss: 0.0260 - accuracy: 0.9911\n",
            "Epoch 8/30\n",
            "16/16 [==============================] - 22s 1s/step - loss: 0.0199 - accuracy: 0.9941\n",
            "Epoch 9/30\n",
            "16/16 [==============================] - 22s 1s/step - loss: 0.0148 - accuracy: 0.9955\n",
            "Epoch 10/30\n",
            "16/16 [==============================] - 22s 1s/step - loss: 0.0086 - accuracy: 0.9990\n",
            "Epoch 11/30\n",
            "16/16 [==============================] - 23s 1s/step - loss: 0.0080 - accuracy: 0.9978\n",
            "Epoch 12/30\n",
            "16/16 [==============================] - 23s 1s/step - loss: 0.0048 - accuracy: 0.9998\n",
            "Epoch 13/30\n",
            "16/16 [==============================] - 23s 1s/step - loss: 0.0039 - accuracy: 0.9998\n",
            "Epoch 14/30\n",
            "16/16 [==============================] - 22s 1s/step - loss: 0.0034 - accuracy: 0.9998\n",
            "Epoch 15/30\n",
            "16/16 [==============================] - 22s 1s/step - loss: 0.0023 - accuracy: 1.0000\n",
            "Epoch 16/30\n",
            "16/16 [==============================] - 22s 1s/step - loss: 0.0019 - accuracy: 0.9998\n",
            "Epoch 17/30\n",
            "16/16 [==============================] - 22s 1s/step - loss: 0.0015 - accuracy: 1.0000\n",
            "Epoch 18/30\n",
            "16/16 [==============================] - 22s 1s/step - loss: 0.0013 - accuracy: 1.0000\n",
            "Epoch 19/30\n",
            "16/16 [==============================] - 22s 1s/step - loss: 0.0011 - accuracy: 1.0000\n",
            "Epoch 20/30\n",
            "16/16 [==============================] - 22s 1s/step - loss: 8.8926e-04 - accuracy: 1.0000\n",
            "Epoch 21/30\n",
            "16/16 [==============================] - 22s 1s/step - loss: 8.0777e-04 - accuracy: 1.0000\n",
            "Epoch 22/30\n",
            "16/16 [==============================] - 22s 1s/step - loss: 6.3554e-04 - accuracy: 1.0000\n",
            "Epoch 23/30\n",
            "16/16 [==============================] - 22s 1s/step - loss: 5.8166e-04 - accuracy: 1.0000\n",
            "Epoch 24/30\n",
            "16/16 [==============================] - 23s 1s/step - loss: 5.9480e-04 - accuracy: 1.0000\n",
            "Epoch 25/30\n",
            "16/16 [==============================] - 22s 1s/step - loss: 5.6653e-04 - accuracy: 1.0000\n",
            "Epoch 26/30\n",
            "16/16 [==============================] - 22s 1s/step - loss: 4.4594e-04 - accuracy: 1.0000\n",
            "Epoch 27/30\n",
            "16/16 [==============================] - 22s 1s/step - loss: 4.3252e-04 - accuracy: 1.0000\n",
            "Epoch 28/30\n",
            "16/16 [==============================] - 22s 1s/step - loss: 4.8190e-04 - accuracy: 1.0000\n",
            "Epoch 29/30\n",
            "16/16 [==============================] - 22s 1s/step - loss: 3.2232e-04 - accuracy: 1.0000\n",
            "Epoch 30/30\n",
            "16/16 [==============================] - 22s 1s/step - loss: 2.9201e-04 - accuracy: 1.0000\n"
          ]
        }
      ],
      "source": [
        "history = model.fit(\n",
        "      train_generator, \n",
        "      epochs=30,\n",
        "      verbose=1)"
      ]
    },
    {
      "cell_type": "code",
      "execution_count": 14,
      "metadata": {
        "id": "itbPnkQDQ1xP",
        "colab": {
          "base_uri": "https://localhost:8080/"
        },
        "outputId": "c384ac4a-4bd8-47c5-bb80-9833632ab8b4"
      },
      "outputs": [
        {
          "output_type": "stream",
          "name": "stdout",
          "text": [
            "4/4 [==============================] - 184s 60s/step - loss: 0.0070 - accuracy: 0.9970\n",
            "loss_and_metrics_apple : [0.007036884315311909, 0.9969879388809204]\n"
          ]
        }
      ],
      "source": [
        "loss_and_metrics_apple = model.evaluate(test_apple_generator)\n",
        "print('loss_and_metrics_apple : ' + str(loss_and_metrics_apple))"
      ]
    },
    {
      "cell_type": "code",
      "execution_count": 15,
      "metadata": {
        "id": "2Ka0QNBOQ10Q",
        "colab": {
          "base_uri": "https://localhost:8080/"
        },
        "outputId": "47fde3da-e952-466c-f488-e9f902597ee1"
      },
      "outputs": [
        {
          "output_type": "stream",
          "name": "stdout",
          "text": [
            "4/4 [==============================] - 162s 53s/step - loss: 3.3528 - accuracy: 0.6367\n",
            "loss_and_metrics_banana : [3.3527612686157227, 0.636663019657135]\n"
          ]
        }
      ],
      "source": [
        "loss_and_metrics_banana = model.evaluate(test_banana_generator)\n",
        "print('loss_and_metrics_banana : ' + str(loss_and_metrics_banana))"
      ]
    },
    {
      "cell_type": "code",
      "source": [
        "loss_and_metrics_orange = model.evaluate(test_orange_generator)\n",
        "print('loss_and_metrics_orange : ' + str(loss_and_metrics_orange))"
      ],
      "metadata": {
        "id": "ltlergFu_zp8",
        "colab": {
          "base_uri": "https://localhost:8080/"
        },
        "outputId": "771f546f-257a-48a2-ecde-823ad563d413"
      },
      "execution_count": 16,
      "outputs": [
        {
          "output_type": "stream",
          "name": "stdout",
          "text": [
            "4/4 [==============================] - 128s 42s/step - loss: 3.4900 - accuracy: 0.5891\n",
            "loss_and_metrics_orange : [3.4900436401367188, 0.5891276597976685]\n"
          ]
        }
      ]
    },
    {
      "cell_type": "code",
      "source": [
        "# 모델 저장하기\n",
        "from keras.models import load_model\n",
        "model.save('apple_InceptionV3_Dense64_128_epoch30.h5')\n",
        "\n",
        "# 2. 모델 불러오기\n",
        "# from keras.models import load_model\n",
        "# model = load_model('모델파일명.h5')"
      ],
      "metadata": {
        "id": "LP2fGcMszCfg"
      },
      "execution_count": 17,
      "outputs": []
    }
  ],
  "metadata": {
    "accelerator": "GPU",
    "colab": {
      "provenance": []
    },
    "gpuClass": "standard",
    "kernelspec": {
      "display_name": "Python 3",
      "name": "python3"
    },
    "language_info": {
      "name": "python"
    }
  },
  "nbformat": 4,
  "nbformat_minor": 0
}